{
 "cells": [
  {
   "cell_type": "markdown",
   "metadata": {},
   "source": [
    "# Summary\n",
    "- use this to clean a tweet csv of known problems"
   ]
  },
  {
   "cell_type": "code",
   "execution_count": 1,
   "metadata": {},
   "outputs": [
    {
     "data": {
      "text/plain": [
       "(70159, 12)"
      ]
     },
     "execution_count": 1,
     "metadata": {},
     "output_type": "execute_result"
    }
   ],
   "source": [
    "import pandas as pd\n",
    "import re\n",
    "\n",
    "#read in data\n",
    "df = pd.read_csv(\"tweets_2018.csv\", lineterminator='\\n') # , index_col=0, set dtype on import \n",
    "df.shape"
   ]
  },
  {
   "cell_type": "markdown",
   "metadata": {},
   "source": [
    "### Cleaning"
   ]
  },
  {
   "cell_type": "code",
   "execution_count": 2,
   "metadata": {},
   "outputs": [],
   "source": [
    "df = df.dropna()\n",
    "df = df.drop_duplicates()"
   ]
  },
  {
   "cell_type": "code",
   "execution_count": 3,
   "metadata": {},
   "outputs": [],
   "source": [
    "# apply regex to remove chains of repeating double quotes\n",
    "df[\"tweet\"] = df.tweet.str.replace('\"{2,}', '', regex=True)"
   ]
  },
  {
   "cell_type": "code",
   "execution_count": 4,
   "metadata": {},
   "outputs": [],
   "source": [
    "# define a regular expression to match emojis\n",
    "emoji_pattern = re.compile(\"[\"\n",
    "        u\"\\U0001f600-\\U0001f64f\"  # emoticons\n",
    "        u\"\\U0001f300-\\U0001f5ff\"  # symbols & pictographs\n",
    "        u\"\\U0001f680-\\U0001f6ff\"  # transport & map symbols\n",
    "        u\"\\U0001f1e0-\\U0001f1ff\"  # flags (iOS)\n",
    "                           \"]+\", flags=re.UNICODE)\n",
    "\n",
    "# replace emojis with an empty string in the 'tweet' column\n",
    "df['tweet'] = df['tweet'].str.replace(emoji_pattern, '')"
   ]
  },
  {
   "cell_type": "markdown",
   "metadata": {},
   "source": [
    "For a future iteration, add regex to remove http / outbound links as these did not prove beneficial to my close analysis after topic modeling"
   ]
  },
  {
   "cell_type": "code",
   "execution_count": 5,
   "metadata": {},
   "outputs": [
    {
     "data": {
      "text/plain": [
       "(70157, 12)"
      ]
     },
     "execution_count": 5,
     "metadata": {},
     "output_type": "execute_result"
    }
   ],
   "source": [
    "df.shape"
   ]
  },
  {
   "cell_type": "markdown",
   "metadata": {},
   "source": [
    "### Bad match row removal"
   ]
  },
  {
   "cell_type": "code",
   "execution_count": 6,
   "metadata": {},
   "outputs": [],
   "source": [
    "# Define the list of keywords\n",
    "keywords = [\"nuclear\",\"nuclear weapons\",\"bomber\",\"missile\",\"icbm\",\"MMIII\",\"B-52\",\n",
    "            \"B-2\",\"airmen\",\"airman\",\"defender\",\"maintenance\",\"maintainer\",\"payload\",\n",
    "            \"transporter\",\"erector\",\"air force\",\"housing\",\"security\",\"safety\",\"nuclear security\",\n",
    "            \"space force\",\"suicide\",\"harassment\",\"leader\",\"leadership\",\"training\",\"officer\"]\n",
    "\n",
    "# Define a regex pattern based on the list of keywords\n",
    "pattern = re.compile(\"|\".join(keywords), re.IGNORECASE)\n",
    "\n",
    "# Use the pattern to create a mask that checks for matches in 'username' column and no matches in 'tweet' column\n",
    "mask = df['username'].str.contains(pattern) & ~df['tweet'].str.contains(pattern)\n",
    "\n",
    "# Apply the mask to the DataFrame to filter out rows that do not meet the condition\n",
    "df = df[~mask]"
   ]
  },
  {
   "cell_type": "code",
   "execution_count": 7,
   "metadata": {},
   "outputs": [
    {
     "data": {
      "text/plain": [
       "(67631, 12)"
      ]
     },
     "execution_count": 7,
     "metadata": {},
     "output_type": "execute_result"
    }
   ],
   "source": [
    "df.shape"
   ]
  },
  {
   "cell_type": "markdown",
   "metadata": {},
   "source": [
    "### Export"
   ]
  },
  {
   "cell_type": "code",
   "execution_count": 8,
   "metadata": {},
   "outputs": [],
   "source": [
    "# export cleaned data\n",
    "# df_covid.to_csv(\"./cleaned_data/tweets_2018_cleaned.csv\", header=True, index=True)"
   ]
  }
 ],
 "metadata": {
  "kernelspec": {
   "display_name": "Python 3.9 test CS484",
   "language": "python",
   "name": "python3.9_cs484_test"
  },
  "language_info": {
   "codemirror_mode": {
    "name": "ipython",
    "version": 3
   },
   "file_extension": ".py",
   "mimetype": "text/x-python",
   "name": "python",
   "nbconvert_exporter": "python",
   "pygments_lexer": "ipython3",
   "version": "3.9.15"
  },
  "varInspector": {
   "cols": {
    "lenName": 16,
    "lenType": 16,
    "lenVar": 40
   },
   "kernels_config": {
    "python": {
     "delete_cmd_postfix": "",
     "delete_cmd_prefix": "del ",
     "library": "var_list.py",
     "varRefreshCmd": "print(var_dic_list())"
    },
    "r": {
     "delete_cmd_postfix": ") ",
     "delete_cmd_prefix": "rm(",
     "library": "var_list.r",
     "varRefreshCmd": "cat(var_dic_list()) "
    }
   },
   "types_to_exclude": [
    "module",
    "function",
    "builtin_function_or_method",
    "instance",
    "_Feature"
   ],
   "window_display": false
  }
 },
 "nbformat": 4,
 "nbformat_minor": 4
}
